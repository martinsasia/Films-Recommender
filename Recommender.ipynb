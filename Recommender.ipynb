{
 "cells": [
  {
   "cell_type": "code",
   "execution_count": null,
   "metadata": {},
   "outputs": [],
   "source": [
    "# Import principal libraries\n",
    "import pandas as pd\n",
    "import numpy as np\n",
    "\n",
    "# Load data frames\n",
    "credits_df = pd.read_csv()\n",
    "credits_df = pd.read_csv()\n"
   ]
  }
 ],
 "metadata": {
  "language_info": {
   "name": "python"
  }
 },
 "nbformat": 4,
 "nbformat_minor": 2
}
